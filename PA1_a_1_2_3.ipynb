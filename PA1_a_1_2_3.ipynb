{
 "cells": [
  {
   "cell_type": "code",
   "execution_count": 2,
   "metadata": {},
   "outputs": [],
   "source": [
    "import numpy as np\n",
    "import matplotlib.pyplot as plt\n",
    "import matplotlib.cm as cm\n"
   ]
  },
  {
   "cell_type": "code",
   "execution_count": 3,
   "metadata": {},
   "outputs": [],
   "source": [
    "#According to Part A question 1 there are 20 features and 2000 samples in the distribution\n",
    "features = 20\n",
    "n = 2000\n",
    "print(\"___________________________Answer to Question 1_________________________________________ \\n\")"
   ]
  },
  {
   "cell_type": "code",
   "execution_count": 4,
   "metadata": {},
   "outputs": [],
   "source": [
    "#Finding the mean of the distribution\n",
    "def dist_mean(n):\n",
    "    return np.random.rand(n)\n",
    "\n",
    "#Finding the covariance of the distribution\n",
    "def dist_covar(n):\n",
    "    A= np.random.rand(n,n)\n",
    "    covariance = np.dot(A, A.transpose())\n",
    "    return A"
   ]
  },
  {
   "cell_type": "code",
   "execution_count": 9,
   "metadata": {},
   "outputs": [
    {
     "name": "stdout",
     "output_type": "stream",
     "text": [
      "Covariance matrix ::::::\n",
      " [[4.59026914e-01 4.44150576e-01 8.17359995e-01 7.43829130e-01\n",
      "  1.08129384e-01 8.88961278e-01 1.26908775e-01 3.56997245e-02\n",
      "  6.41255657e-01 8.12831409e-01 7.38054834e-01 4.28894197e-01\n",
      "  2.87038022e-02 5.51175091e-01 5.03461873e-02 4.64341992e-01\n",
      "  1.48744815e-01 8.77808779e-01 4.94967622e-01 3.13456989e-01]\n",
      " [9.14891290e-01 9.85384236e-02 8.16524926e-01 8.10468057e-02\n",
      "  9.42600737e-01 6.30303375e-01 9.88021652e-01 3.34427534e-01\n",
      "  7.65403320e-01 3.46704864e-01 4.33609717e-01 2.83327581e-01\n",
      "  7.21652867e-01 2.15677305e-01 3.05907766e-01 3.97959544e-01\n",
      "  9.38727328e-01 2.16581887e-01 7.81976676e-01 2.44283390e-01]\n",
      " [1.50055819e-01 6.62578472e-01 2.63653055e-01 8.63920813e-01\n",
      "  5.35933627e-01 3.24076456e-01 1.98348860e-01 3.12539179e-01\n",
      "  1.13988358e-01 7.68455027e-01 1.32370320e-01 6.23462935e-01\n",
      "  6.19461109e-01 7.32792865e-01 4.27939682e-01 1.75612840e-01\n",
      "  8.83538470e-01 8.00561884e-01 1.54940132e-01 7.57972929e-01]\n",
      " [6.87522535e-01 3.66694677e-01 4.08354238e-02 9.12027820e-01\n",
      "  2.47233555e-01 2.60410042e-01 8.67288654e-01 1.99804551e-03\n",
      "  9.16122355e-02 6.48512935e-02 4.07627384e-01 1.10392072e-01\n",
      "  6.14256139e-01 4.73479195e-01 3.59119093e-02 1.67266087e-01\n",
      "  6.45446520e-01 4.38225867e-01 6.34475248e-01 1.93273155e-01]\n",
      " [3.08534533e-01 3.81057377e-01 5.82789956e-01 7.12750617e-01\n",
      "  3.24969029e-01 7.97983671e-01 2.08720916e-01 3.39472472e-01\n",
      "  2.83174857e-02 8.67968402e-01 3.92692126e-02 3.75301183e-01\n",
      "  7.05966736e-01 5.78321988e-01 6.76473327e-01 8.11635603e-01\n",
      "  7.21459344e-01 5.73783860e-01 7.49668011e-01 9.43769916e-01]\n",
      " [7.88897728e-01 8.32750139e-01 5.92247460e-01 4.31977487e-01\n",
      "  8.01828596e-01 7.70177454e-01 6.73491117e-01 5.21196535e-01\n",
      "  7.31393564e-01 4.61012023e-01 3.08561181e-01 2.07479104e-02\n",
      "  1.66851892e-01 3.63906355e-01 1.52877293e-01 1.03017962e-01\n",
      "  1.39890763e-01 1.83456605e-01 7.39897465e-01 6.84607079e-01]\n",
      " [2.94796814e-01 8.23154369e-01 2.63413719e-01 9.83757911e-01\n",
      "  5.68362498e-02 1.88595180e-02 8.35439353e-02 7.64619025e-01\n",
      "  8.16439376e-01 5.89058844e-01 5.13466924e-01 6.88178824e-01\n",
      "  2.99601215e-01 5.86075562e-04 3.60114975e-01 2.82690029e-01\n",
      "  8.76131336e-01 7.29491596e-01 9.69336693e-01 7.37692351e-01]\n",
      " [1.42888924e-01 9.03634676e-01 8.66594822e-01 6.12255163e-01\n",
      "  6.38343813e-01 9.89229680e-01 5.42950409e-01 4.86942826e-01\n",
      "  9.99450358e-01 3.66315280e-02 5.96842271e-02 7.37908041e-01\n",
      "  2.98731842e-02 3.93182135e-01 9.95526268e-01 6.84139291e-01\n",
      "  9.63355917e-01 9.06490307e-01 9.37823524e-01 2.74715551e-01]\n",
      " [3.41105597e-01 7.35984161e-01 6.26059863e-01 2.61043951e-01\n",
      "  9.51210439e-01 2.46242384e-01 3.04372010e-01 4.78223204e-01\n",
      "  4.62925233e-01 7.42842909e-01 3.00132113e-01 3.03229129e-02\n",
      "  2.59380351e-01 5.76017164e-01 4.36224372e-01 2.91170423e-01\n",
      "  3.18479569e-01 8.33911311e-01 4.48173739e-01 5.92535540e-01]\n",
      " [9.98559631e-01 8.78726153e-01 4.24484079e-01 7.25840414e-01\n",
      "  9.91450259e-01 7.70124539e-01 8.29416470e-01 2.59936599e-01\n",
      "  8.78890555e-01 1.60054670e-01 5.04850988e-01 7.95508234e-01\n",
      "  3.38075130e-02 9.88652517e-01 6.48372287e-01 5.28001326e-02\n",
      "  8.38181077e-01 1.36531533e-01 7.42533244e-01 5.79204505e-01]\n",
      " [1.89861577e-01 8.96301296e-01 3.09161254e-01 9.11462221e-01\n",
      "  1.06512655e-01 5.88505217e-01 8.56981072e-01 4.25406519e-01\n",
      "  4.71922500e-01 3.16000338e-01 7.28817549e-01 9.70050890e-01\n",
      "  3.00170349e-01 3.01207269e-02 9.93855159e-01 8.92070966e-01\n",
      "  5.12137534e-01 2.51662700e-02 9.44873233e-01 8.39985634e-02]\n",
      " [1.83314067e-01 3.72381013e-01 1.27178640e-01 5.91855211e-01\n",
      "  4.41478223e-01 7.70640604e-01 5.64446557e-01 6.76145665e-01\n",
      "  2.12311973e-01 1.04171934e-01 6.47711463e-01 9.54873841e-01\n",
      "  3.39920401e-01 9.08231181e-01 2.79429812e-01 8.10594714e-01\n",
      "  1.24967258e-01 9.16330984e-01 9.76501926e-01 1.20706376e-01]\n",
      " [1.45495156e-01 6.39502050e-01 5.08745853e-01 6.35190400e-01\n",
      "  1.33971017e-02 6.05721068e-01 2.34653281e-02 5.19002753e-01\n",
      "  2.61684979e-01 7.13692115e-01 8.86956835e-01 5.47327368e-01\n",
      "  7.31840490e-01 5.16410856e-01 7.95047035e-01 5.35400712e-01\n",
      "  3.07932163e-01 5.03610606e-02 8.06093866e-01 9.65187668e-01]\n",
      " [1.32017170e-01 4.49549819e-01 5.47571398e-01 8.94840446e-01\n",
      "  7.42460093e-01 6.71237239e-01 8.86316761e-01 8.09933833e-01\n",
      "  4.02322472e-02 5.90532833e-01 9.56663535e-01 4.75514763e-01\n",
      "  5.33846495e-01 6.45201089e-01 7.24144715e-01 6.23743270e-01\n",
      "  7.31304256e-02 9.65252438e-01 1.72410363e-01 5.11738865e-02]\n",
      " [5.23631860e-01 3.47760892e-01 9.91381517e-01 2.75694578e-01\n",
      "  8.38997340e-01 3.05667415e-01 6.94773146e-01 2.89650874e-01\n",
      "  7.98221017e-01 7.00402365e-01 1.76010274e-01 9.15463021e-01\n",
      "  5.65096224e-01 1.96408508e-01 4.05932307e-01 5.38380997e-03\n",
      "  6.89143739e-02 9.15321322e-01 3.07055013e-01 7.61473270e-01]\n",
      " [4.70866219e-02 7.38643799e-01 5.95919510e-01 6.77846474e-02\n",
      "  4.79377240e-01 2.98248282e-01 5.29872445e-01 2.53533483e-01\n",
      "  6.61604447e-01 8.15388123e-01 8.42052331e-01 8.92163466e-01\n",
      "  5.91413697e-01 7.22715402e-01 2.71030904e-01 8.56426355e-02\n",
      "  7.53081161e-01 1.30055624e-01 7.94971813e-01 3.07970588e-01]\n",
      " [2.06040679e-01 5.40115481e-01 9.65022482e-01 6.98611940e-01\n",
      "  7.26367105e-02 1.14820549e-01 1.03803638e-03 6.91459615e-01\n",
      "  3.37649241e-01 3.26257037e-02 5.19637746e-01 6.05258314e-02\n",
      "  8.85035306e-01 3.42507791e-01 8.86788035e-01 3.08809501e-01\n",
      "  6.36076364e-01 2.65013212e-01 4.49715513e-01 8.81738070e-02]\n",
      " [9.80322534e-02 3.55974469e-01 9.07475237e-02 5.14987169e-01\n",
      "  1.37003791e-01 9.79625543e-01 5.60548577e-01 1.47100403e-01\n",
      "  7.70670034e-01 2.45223388e-01 4.03719666e-01 9.44930564e-01\n",
      "  8.41828238e-01 2.33698630e-01 1.44691242e-01 2.51300887e-01\n",
      "  7.78727990e-01 6.40453396e-01 7.31619568e-01 3.88406743e-01]\n",
      " [6.90472185e-01 1.23596967e-01 1.34335591e-01 2.69867059e-01\n",
      "  4.59252024e-01 6.38636013e-01 2.15949374e-01 6.71837480e-01\n",
      "  4.91122233e-01 8.68793443e-01 4.32732651e-01 3.68386505e-01\n",
      "  9.79757450e-01 9.22913400e-02 9.73582190e-01 6.80849871e-01\n",
      "  1.54123717e-01 7.25163177e-01 9.49952941e-01 5.81810438e-01]\n",
      " [2.79274029e-01 6.92847436e-01 4.67093355e-01 9.96003693e-01\n",
      "  8.17839857e-01 8.40792332e-01 5.82155550e-01 4.98466261e-01\n",
      "  4.86071790e-02 8.43664647e-01 7.50331007e-01 4.48137384e-01\n",
      "  5.99664387e-01 1.40952492e-01 4.13095308e-01 3.25501588e-01\n",
      "  3.91189967e-01 3.47264672e-01 8.84483098e-01 6.53461603e-01]]\n"
     ]
    }
   ],
   "source": [
    "#Calculating the means of 2 classes\n",
    "mean_0 = dist_mean(features)\n",
    "mean_1 = mean_0 +2* dist_mean(features)\n",
    "\n",
    "\n",
    "#Covariance matrix of 2 classes\n",
    "covar = dist_covar(features)\n",
    "\n",
    "print(\"Covariance matrix for classes X and Y ::::::\\n\" , covar)\n"
   ]
  },
  {
   "cell_type": "code",
   "execution_count": 10,
   "metadata": {},
   "outputs": [
    {
     "name": "stderr",
     "output_type": "stream",
     "text": [
      "C:\\Users\\abarat\\AppData\\Local\\Continuum\\anaconda3\\lib\\site-packages\\ipykernel_launcher.py:2: RuntimeWarning: covariance is not symmetric positive-semidefinite.\n",
      "  \n",
      "C:\\Users\\abarat\\AppData\\Local\\Continuum\\anaconda3\\lib\\site-packages\\ipykernel_launcher.py:3: RuntimeWarning: covariance is not symmetric positive-semidefinite.\n",
      "  This is separate from the ipykernel package so we can avoid doing imports until\n"
     ]
    },
    {
     "data": {
      "image/png": "[encoded data removed]",
      "text/plain": [
       "<Figure size 432x288 with 1 Axes>"
      ]
     },
     "metadata": {
      "needs_background": "light"
     },
     "output_type": "display_data"
    }
   ],
   "source": [
    "#Obtain the multivariate distribution for class 0 & 1\n",
    "class_0 = np.random.multivariate_normal(mean_0, covar, n)\n",
    "class_1 = np.random.multivariate_normal(mean_1, covar, n)\n",
    "\n",
    "#Plot both classes to show the overlap\n",
    "plt.scatter(class_0[:,0], class_0[:,1], color ='green')\n",
    "plt.scatter(class_1[:,0], class_1[:,1], color = 'red')\n",
    "\n",
    "print(\"___________________________Scatter Diagram of 2 classes X(green) and Y(red)_________________________________________ \\n\")\n",
    "\n",
    "plt.show()\n",
    "\n"
   ]
  },
  {
   "cell_type": "code",
   "execution_count": 11,
   "metadata": {},
   "outputs": [
    {
     "name": "stdout",
     "output_type": "stream",
     "text": [
      "Xtrain and Xtest shapes :: \n",
      "\n",
      "(1400, 20) (600, 20)\n",
      "ytrain and ytest shapes :: \n",
      "\n",
      "(1400,) (600,)\n"
     ]
    }
   ],
   "source": [
    "from sklearn.model_selection import train_test_split\n",
    "\n",
    "X = np.random.rand(n, features)\n",
    "y = np.array([[1 for _ in range(int(n/2)) ], [0 for _ in range(int (n/2))]]). ravel()\n",
    "Xtrain, Xtest, ytrain, ytest = train_test_split(X, y , test_size = 0.3 , random_state =10)\n",
    "DS1 = Xtest\n",
    "\n",
    "print(\"Xtrain and Xtest shapes :: \\n\")\n",
    "\n",
    "print(Xtrain.shape , Xtest.shape)\n",
    "\n",
    "print(\"ytrain and ytest shapes :: \\n\")\n",
    "print(ytrain.shape , ytest.shape)"
   ]
  },
  {
   "cell_type": "code",
   "execution_count": 14,
   "metadata": {},
   "outputs": [
    {
     "name": "stdout",
     "output_type": "stream",
     "text": [
      "___________________________Answer to Question 2_________________________________________ \n",
      "\n",
      "Coefficients learnt for Linear Classifier:::::::::::::::\n",
      " [[-0.22307286 -0.25645516 -0.13414231  0.78127622  0.00585741  0.02423993\n",
      "  -0.92928414 -0.40588433 -0.20257899  0.03534471 -0.23915428 -0.00122009\n",
      "   0.46546661 -0.81770583 -0.51603534  0.02309113  0.04995469  0.28394915\n",
      "  -0.41174267  0.33099656]]\n",
      "Results of Linear Classification on the training set are :::::::::::::::: \n",
      "\n",
      "              precision    recall  f1-score   support\n",
      "\n",
      "           0       0.51      0.91      0.65       702\n",
      "           1       0.57      0.13      0.21       698\n",
      "\n",
      "    accuracy                           0.52      1400\n",
      "   macro avg       0.54      0.52      0.43      1400\n",
      "weighted avg       0.54      0.52      0.43      1400\n",
      "\n",
      "Results of Linear Classification on the test are :::::::::::::::: \n",
      "\n",
      "              precision    recall  f1-score   support\n",
      "\n",
      "           0       0.50      0.86      0.63       298\n",
      "           1       0.52      0.15      0.23       302\n",
      "\n",
      "    accuracy                           0.50       600\n",
      "   macro avg       0.51      0.50      0.43       600\n",
      "weighted avg       0.51      0.50      0.43       600\n",
      "\n"
     ]
    }
   ],
   "source": [
    "#---------------------------2. Linear Classification ----------------------------#\n",
    "print(\"___________________________Answer to Question 2_________________________________________ \\n\")\n",
    "#Importing Stochastic Gradient Descent Classifier for linear classification\n",
    "from sklearn.linear_model import SGDClassifier\n",
    "clf = SGDClassifier()\n",
    "\n",
    "#training the classifier\n",
    "clf.fit(Xtrain, ytrain)\n",
    "\n",
    "print(\"Coefficients learnt for Linear Classifier:::::::::::::::\\n\", clf.coef_)\n",
    "\n",
    "#testing on the training set \n",
    "predict_training = clf.predict(Xtrain)\n",
    "\n",
    "#testing on the test set\n",
    "predict_test = clf.predict(Xtest)\n",
    "\n",
    "from sklearn.metrics import classification_report\n",
    "\n",
    "#printing results on training set \n",
    "print(\"Results of Linear Classification on the training set are :::::::::::::::: \\n\")\n",
    "print(classification_report(ytrain, predict_training))\n",
    "\n",
    "#printing results on test \n",
    "print(\"Results of Linear Classification on the test are :::::::::::::::: \\n\")\n",
    "print(classification_report(ytest, predict_test))"
   ]
  },
  {
   "cell_type": "code",
   "execution_count": 21,
   "metadata": {},
   "outputs": [
    {
     "name": "stdout",
     "output_type": "stream",
     "text": [
      "___________________________Answer to Question 3_________________________________________ \n",
      "\n",
      "Results of K-NN on the training set are :::::::::::::::: \n",
      "\n",
      "              precision    recall  f1-score   support\n",
      "\n",
      "           0       0.52      0.73      0.60       702\n",
      "           1       0.53      0.31      0.39       698\n",
      "\n",
      "    accuracy                           0.52      1400\n",
      "   macro avg       0.52      0.52      0.50      1400\n",
      "weighted avg       0.52      0.52      0.50      1400\n",
      "\n",
      "Results of K-NN the test are :::::::::::::::: \n",
      "\n",
      "              precision    recall  f1-score   support\n",
      "\n",
      "           0       0.51      0.71      0.59       298\n",
      "           1       0.53      0.31      0.39       302\n",
      "\n",
      "    accuracy                           0.51       600\n",
      "   macro avg       0.52      0.51      0.49       600\n",
      "weighted avg       0.52      0.51      0.49       600\n",
      "\n"
     ]
    }
   ],
   "source": [
    "#---------------------------3. K Nearest Neighbours ----------------------------#\n",
    "print(\"___________________________Answer to Question 3_________________________________________ \\n\")\n",
    "#Importing K nearest neighbors classifier\n",
    "from sklearn.neighbors import KNeighborsClassifier\n",
    "clf = KNeighborsClassifier(n_neighbors = 1000)\n",
    "\n",
    "#training the classifier\n",
    "clf.fit(Xtrain, ytrain)\n",
    "\n",
    "#testing on the training set \n",
    "predict_training = clf.predict(Xtrain)\n",
    "\n",
    "#testing on the test set\n",
    "predict_test = clf.predict(Xtest)\n",
    "\n",
    "from sklearn.metrics import classification_report\n",
    "\n",
    "#printing results on training set \n",
    "print(\"Results of K-NN on the training set are :::::::::::::::: \\n\")\n",
    "print(classification_report(ytrain, predict_training))\n",
    "\n",
    "#printing results on test \n",
    "print(\"Results of K-NN the test are :::::::::::::::: \\n\")\n",
    "print(classification_report(ytest, predict_test))"
   ]
  }
 ],
 "metadata": {
  "kernelspec": {
   "display_name": "Python 3",
   "language": "python",
   "name": "python3"
  },
  "language_info": {
   "codemirror_mode": {
    "name": "ipython",
    "version": 3
   },
   "file_extension": ".py",
   "mimetype": "text/x-python",
   "name": "python",
   "nbconvert_exporter": "python",
   "pygments_lexer": "ipython3",
   "version": "3.7.3"
  }
 },
 "nbformat": 4,
 "nbformat_minor": 2
}
